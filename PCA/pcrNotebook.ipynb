{
 "cells": [
  {
   "cell_type": "code",
   "execution_count": 5,
   "id": "f9003427",
   "metadata": {},
   "outputs": [],
   "source": [
    "import numpy as np\n",
    "import pandas as pd\n",
    "import matplotlib.pyplot as plt\n",
    "from sklearn.decomposition import PCA\n",
    "from sklearn.model_selection import train_test_split\n",
    "from sklearn.preprocessing import StandardScaler\n",
    "from sklearn.pipeline import make_pipeline\n",
    "from sklearn.linear_model import LinearRegression\n",
    "from sklearn.metrics import mean_squared_error\n",
    "\n",
    "# Importing excel sheets as dfs, should both have samples in the same order\n",
    "predictors_df = pd.read_excel('../Predictors_Cleaned.xlsx', 0)\n",
    "    # Rows are samples, columns are predictors\n",
    "outcomes_df = pd.read_excel('../Outcomes_Cleaned.xlsx', 0)\n",
    "    # Rows are samples, columns are mechanisms\n",
    "\n",
    "# Dropping unnecessary metadata\n",
    "X = predictors_df.drop('SAMPLE NAME', axis=1)\n",
    "Y = outcomes_df.drop('MECHANISM', axis=1) # Full DF must iterate through\n",
    "feature_names = X.columns\n",
    "gene_names = Y.columns\n",
    "\n",
    "# List of columns for iterating\n",
    "columns = list(Y)"
   ]
  },
  {
   "cell_type": "code",
   "execution_count": 9,
   "id": "f85f5b45-a293-4482-be91-dfb1c4b34592",
   "metadata": {},
   "outputs": [
    {
     "name": "stdout",
     "output_type": "stream",
     "text": [
      "5846.956174982894\n"
     ]
    }
   ],
   "source": [
    "# splitting the Data\n",
    "x_train, x_test, y_train, y_test = train_test_split(X, Y, random_state=0)\n",
    "\n",
    "# scaling the data\n",
    "scaler = StandardScaler()\n",
    "x_scaled = scaler.fit_transform(x_train)\n",
    "x_scaled_test = scaler.fit_transform(x_test)\n",
    "\n",
    "# applying pca algorithm\n",
    "pca = PCA(n_components=2)\n",
    "x_pca = pca.fit_transform(x_scaled)\n",
    "x_pca_test = pca.transform(x_scaled_test)\n",
    "\n",
    "# applying linear regression\n",
    "linreg = LinearRegression()\n",
    "linreg.fit(x_scaled, y_train)\n",
    "\n",
    "# MSE\n",
    "pred = linreg.predict(x_scaled_test)\n",
    "print(np.sqrt(mean_squared_error(y_test, pred)))"
   ]
  },
  {
   "cell_type": "code",
   "execution_count": 22,
   "id": "b741cdf3-c3d3-4c13-a57d-7b8dee566132",
   "metadata": {},
   "outputs": [
    {
     "data": {
      "image/png": "[encoded data removed]",
      "text/plain": [
       "<Figure size 640x480 with 1 Axes>"
      ]
     },
     "metadata": {},
     "output_type": "display_data"
    }
   ],
   "source": [
    "# Plot outputs\n",
    "plt.scatter(x_pca_test[:, 0], x_pca_test[:, 1], color=\"black\")\n",
    "plt.scatter(x_pca_test[:, 0], pred[:, 1], color=\"blue\")\n",
    "\n",
    "#plt.xticks(())\n",
    "#plt.yticks(())\n",
    "\n",
    "plt.show()"
   ]
  },
  {
   "cell_type": "code",
   "execution_count": 11,
   "id": "41b9d33e",
   "metadata": {},
   "outputs": [],
   "source": [
    "# DOESNT WORK\n",
    "x_train, x_test, y_train, y_test = train_test_split(X, Y, random_state=0)\n",
    "\n",
    "# Making the PCR model\n",
    "pcr = make_pipeline(StandardScaler(), PCA(n_components=2), LinearRegression())\n",
    "pcr.fit(x_train, y_train)\n",
    "\n",
    "# Retrieving the PCA step of the pipeline\n",
    "pca = pcr.named_steps[\"pca\"]  # retrieve the PCA step of the pipeline\n",
    "\n",
    "# print(pcr.named_steps)\n",
    "# X_pca = pca.fit_transform(pcr.named_steps[\"standardscaler\"])\n",
    "\n",
    "# Visualization\n",
    "fig, axes = plt.subplots(1, 2, figsize=(10, 3))\n",
    "\n",
    "axes[0].scatter(pca.transform(x_test), y_test, label=\"ground truth\")\n",
    "axes[0].scatter(\n",
    "    pca.transform(x_test), pcr.predict(x_test), alpha=0.3, label=\"predictions\"\n",
    ")\n",
    "axes[0].set(\n",
    "    xlabel=\"Projected data onto first PCA component\", ylabel=\"y\", title=\"PCR / PCA\"\n",
    ")\n",
    "axes[0].legend()"
   ]
  }
 ],
 "metadata": {
  "kernelspec": {
   "display_name": "Python 3 (ipykernel)",
   "language": "python",
   "name": "python3"
  },
  "language_info": {
   "codemirror_mode": {
    "name": "ipython",
    "version": 3
   },
   "file_extension": ".py",
   "mimetype": "text/x-python",
   "name": "python",
   "nbconvert_exporter": "python",
   "pygments_lexer": "ipython3",
   "version": "3.12.7"
  }
 },
 "nbformat": 4,
 "nbformat_minor": 5
}
