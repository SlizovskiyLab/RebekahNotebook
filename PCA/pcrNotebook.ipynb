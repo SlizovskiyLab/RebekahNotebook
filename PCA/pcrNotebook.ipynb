{
 "cells": [
  {
   "cell_type": "code",
   "execution_count": null,
   "id": "f9003427",
   "metadata": {},
   "outputs": [],
   "source": [
    "import numpy as np\n",
    "import pandas as pd\n",
    "import matplotlib.pyplot as plt\n",
    "from sklearn.decomposition import PCA\n",
    "from sklearn.model_selection import train_test_split\n",
    "from sklearn.preprocessing import StandardScaler\n",
    "from sklearn.pipeline import make_pipeline\n",
    "from sklearn.linear_model import LinearRegression\n",
    "\n",
    "# Importing excel sheets as dfs, should both have samples in the same order\n",
    "predictors_df = pd.read_excel('../Predictors_Cleaned.xlsx', 0)\n",
    "    # Rows are samples, columns are predictors\n",
    "outcomes_df = pd.read_excel('../Outcomes_Cleaned.xlsx', 0)\n",
    "    # Rows are samples, columns are mechanisms\n",
    "\n",
    "# Dropping unnecessary metadata\n",
    "X = predictors_df.drop('SAMPLE NAME', axis=1)\n",
    "Y = outcomes_df.drop('MECHANISM', axis=1) # Full DF must iterate through\n",
    "feature_names = X.columns\n",
    "gene_names = Y.columns\n",
    "\n",
    "# List of columns for iterating\n",
    "columns = list(Y)"
   ]
  },
  {
   "cell_type": "code",
   "execution_count": null,
   "id": "41b9d33e",
   "metadata": {},
   "outputs": [],
   "source": [
    "# Split the data\n",
    "x_train, x_test, y_train, y_test = train_test_split(X, Y, random_state=0)\n",
    "\n",
    "# Making the PCR model\n",
    "pcr = make_pipeline(StandardScaler(), PCA(n_components=2), LinearRegression())\n",
    "pcr.fit(x_train, y_train)\n",
    "\n",
    "# Retrieving the PCA step of the pipeline\n",
    "pca = pcr.named_steps[\"pca\"]  # retrieve the PCA step of the pipeline"
   ]
  },
  {
   "cell_type": "code",
   "execution_count": null,
   "id": "6675eab9",
   "metadata": {},
   "outputs": [],
   "source": [
    "# Visualization\n",
    "fig, axes = plt.subplots(1, 2, figsize=(10, 3))\n",
    "axes.scatter(pca.transform(x_test), y_test, alpha=0.3, label=\"PCA ground truth\")\n",
    "axes.scatter(\n",
    "    pca.transform(x_test), pcr.predict(x_test), alpha=0.3, label=\" PCR predictions\"\n",
    ")\n",
    "axes.set(\n",
    "    xlabel=\"Projected data onto first PCA component\", ylabel=\"y\", title=\"PCR / PCA\"\n",
    ")\n",
    "axes.legend()"
   ]
  }
 ],
 "metadata": {
  "language_info": {
   "name": "python"
  }
 },
 "nbformat": 4,
 "nbformat_minor": 5
}
