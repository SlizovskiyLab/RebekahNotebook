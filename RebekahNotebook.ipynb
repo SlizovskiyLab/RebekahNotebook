{
 "cells": [
  {
   "cell_type": "markdown",
   "metadata": {},
   "source": [
    "Notebook Test"
   ]
  },
  {
   "cell_type": "code",
   "execution_count": 16,
   "metadata": {},
   "outputs": [
    {
     "name": "stdout",
     "output_type": "stream",
     "text": [
      "     SAMPLE NAME  SAMPLE INDEX  Disease_type  donor_pre_post  timepoint  \\\n",
      "0     ERR2198632           102             1               1          1   \n",
      "1     ERR2198652           105             1               0          0   \n",
      "2     ERR2198653           106             1               1          2   \n",
      "3     ERR2198654           107             1               1         64   \n",
      "4     ERR2198655           108             1               1        135   \n",
      "..           ...           ...           ...             ...        ...   \n",
      "206  SRR13022323           207             2               1         36   \n",
      "207  SRR13068830           208             2               0          0   \n",
      "208  SRR13712911           209             1               1         90   \n",
      "209  SRR13844417           210             1               0          0   \n",
      "210   SRR4435956           211             1               1         13   \n",
      "\n",
      "     timepoint_type  geographic_location  fmt_route  fmt_prep  \\\n",
      "0                 1                    1          4         1   \n",
      "1                 0                    1          4         1   \n",
      "2                 1                    1          4         1   \n",
      "3                 2                    1          4         1   \n",
      "4                 3                    1          4         1   \n",
      "..              ...                  ...        ...       ...   \n",
      "206               2                    1          1         1   \n",
      "207               0                    1          3         1   \n",
      "208               3                    2          6         0   \n",
      "209               0                    1          0         1   \n",
      "210               2                    1          7         1   \n",
      "\n",
      "     bowel_preparation  ...  trimmomatic_reverse_only_surviving  \\\n",
      "0                    2  ...                              802154   \n",
      "1                    2  ...                              154272   \n",
      "2                    2  ...                              164183   \n",
      "3                    2  ...                              129517   \n",
      "4                    2  ...                              143519   \n",
      "..                 ...  ...                                 ...   \n",
      "206                  0  ...                                  16   \n",
      "207                  1  ...                               48147   \n",
      "208                  1  ...                              145035   \n",
      "209                  0  ...                              214477   \n",
      "210                  2  ...                               15895   \n",
      "\n",
      "     trimmomatic_dropped  trimmomatic_surviving  host_removal_input_reads  \\\n",
      "0                 362582              175301936                 175302129   \n",
      "1                  64886               89997312                  89997762   \n",
      "2                  73468               96605768                  96605877   \n",
      "3                  52209               77435100                  77435148   \n",
      "4                  49273               90908660                  90908708   \n",
      "..                   ...                    ...                       ...   \n",
      "206                    0               12768384                  12768452   \n",
      "207                33405               47148596                  47148600   \n",
      "208                82349               68592780                  68594438   \n",
      "209               133418               62891254                  62891730   \n",
      "210                  392               15217646                  15217710   \n",
      "\n",
      "     (host_removal_input_reads - trimmomatic_surviving)/host_removal_input_reads * 100  \\\n",
      "0                                             0.000110                                   \n",
      "1                                             0.000500                                   \n",
      "2                                             0.000113                                   \n",
      "3                                             0.000062                                   \n",
      "4                                             0.000053                                   \n",
      "..                                                 ...                                   \n",
      "206                                           0.000533                                   \n",
      "207                                           0.000008                                   \n",
      "208                                           0.002417                                   \n",
      "209                                           0.000757                                   \n",
      "210                                           0.000421                                   \n",
      "\n",
      "     host_removal_mapped  host_removal_unmapped  percent_host_reads_mapped  \\\n",
      "0                9758589              165543540                   5.566726   \n",
      "1                4679697               85318065                   5.199793   \n",
      "2                6030884               90574993                   6.242771   \n",
      "3                5493399               71941749                   7.094193   \n",
      "4                7131988               83776720                   7.845220   \n",
      "..                   ...                    ...                        ...   \n",
      "206               820681               11947771                   6.427412   \n",
      "207              1503091               45645509                   3.187986   \n",
      "208              4371108               64223330                   6.372394   \n",
      "209             18970647               43921083                  30.163977   \n",
      "210              3837450               11380260                  25.217000   \n",
      "\n",
      "     percent_host_reads_unmapped  read_post_host_removal  \n",
      "0                      94.433274               165543347  \n",
      "1                      94.800207                85317615  \n",
      "2                      93.757229                90574884  \n",
      "3                      92.905807                71941701  \n",
      "4                      92.154780                83776672  \n",
      "..                           ...                     ...  \n",
      "206                    93.572588                11947703  \n",
      "207                    96.812014                45645505  \n",
      "208                    93.627606                64221672  \n",
      "209                    69.836023                43920607  \n",
      "210                    74.783000                11380196  \n",
      "\n",
      "[211 rows x 33 columns]\n"
     ]
    }
   ],
   "source": [
    "import pandas as pd \n",
    "\n",
    "# Importing excel sheets as dfs, should both have samples in the same order\n",
    "predictors_df = pd.read_excel('Predictors_Cleaned.xlsx', 0)\n",
    "    # Rows are samples, columns are predictors\n",
    "outcomes_df = pd.read_excel('Outcomes_Cleaned.xlsx', 0)\n",
    "    # Rows are samples, columns are mechanisms\n",
    "\n",
    "print(predictors_df) # 211 x 33\n",
    "# print(outcomes_df) # 211 x 41\n"
   ]
  },
  {
   "cell_type": "code",
   "execution_count": null,
   "metadata": {},
   "outputs": [],
   "source": [
    "from sklearn.ensemble import RandomForestClassifier\n",
    "# Removing the first column (sample IDs) and converting to numpy array\n",
    "X = predictors_df.drop('SAMPLE NAME', axis=1).values\n",
    "Y = outcomes_df['Lipopeptides'].values\n",
    "\n",
    "# Unsure if the following code works\n",
    "clf = RandomForestClassifier()\n",
    "clf = clf.fit(X, Y)\n",
    "\n",
    "\n"
   ]
  },
  {
   "cell_type": "markdown",
   "metadata": {},
   "source": [
    "why isnt it working"
   ]
  }
 ],
 "metadata": {
  "kernelspec": {
   "display_name": "Python 3",
   "language": "python",
   "name": "python3"
  },
  "language_info": {
   "codemirror_mode": {
    "name": "ipython",
    "version": 3
   },
   "file_extension": ".py",
   "mimetype": "text/x-python",
   "name": "python",
   "nbconvert_exporter": "python",
   "pygments_lexer": "ipython3",
   "version": "3.13.4"
  }
 },
 "nbformat": 4,
 "nbformat_minor": 2
}
