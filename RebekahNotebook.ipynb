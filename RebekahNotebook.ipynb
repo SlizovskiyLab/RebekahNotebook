{
 "cells": [
  {
   "cell_type": "markdown",
   "metadata": {},
   "source": [
    "Notebook Test"
   ]
  },
  {
   "cell_type": "code",
   "execution_count": 61,
   "metadata": {},
   "outputs": [
    {
     "name": "stdout",
     "output_type": "stream",
     "text": [
      "      MECHANISM  Lipopeptides  Arsenic_resistance  Copper_resistance  \\\n",
      "0    ERR2198632          1663                4114               2047   \n",
      "1    ERR2198652           492                 248               5352   \n",
      "2    ERR2198653          1699                1554               1442   \n",
      "3    ERR2198654             0                 397                  0   \n",
      "4    ERR2198655             0                 357                  0   \n",
      "..          ...           ...                 ...                ...   \n",
      "206  SRR8667755             0                   0                296   \n",
      "207  SRR8667756             0                  42                142   \n",
      "208  SRR8667757             0                  35                  9   \n",
      "209  SRR8667760             0                  61                281   \n",
      "210  SRR8667761             0                 121                  0   \n",
      "\n",
      "     Rifampin  Trimethoprim  Tellurim_resistance  Zinc_resistance  \\\n",
      "0        4320         11438                 1340             7834   \n",
      "1        1418         10703                  463             2590   \n",
      "2        4705         10224                 1177             6860   \n",
      "3           0           389                    0             1244   \n",
      "4           0             0                    0              929   \n",
      "..        ...           ...                  ...              ...   \n",
      "206         0            26                    0                0   \n",
      "207         0            20                    0             1457   \n",
      "208         0             0                    0              609   \n",
      "209         0             0                    0              133   \n",
      "210         0             0                    0              675   \n",
      "\n",
      "     Peroxide_resistance  Multi-drug_resistance  ...  \\\n",
      "0                   1171                  10884  ...   \n",
      "1                    387                   4377  ...   \n",
      "2                   1093                  10392  ...   \n",
      "3                      0                      0  ...   \n",
      "4                      0                     98  ...   \n",
      "..                   ...                    ...  ...   \n",
      "206                    0                      0  ...   \n",
      "207                    0                      0  ...   \n",
      "208                    0                      0  ...   \n",
      "209                    0                      0  ...   \n",
      "210                    0                      0  ...   \n",
      "\n",
      "     Cationic_microbial_peptides  Biocide_and_metal_resistance  \\\n",
      "0                           1084                          4750   \n",
      "1                            718                          1034   \n",
      "2                            553                          3477   \n",
      "3                            101                           315   \n",
      "4                             52                           401   \n",
      "..                           ...                           ...   \n",
      "206                            0                             0   \n",
      "207                            0                            25   \n",
      "208                            0                            68   \n",
      "209                            0                            47   \n",
      "210                            0                             0   \n",
      "\n",
      "     Iron_resistance  Bioguanide_resistance  Metronidazole  \\\n",
      "0                  0                      0             16   \n",
      "1                 48                      0            531   \n",
      "2                  0                      0              0   \n",
      "3                  0                      0              0   \n",
      "4                  0                      0              0   \n",
      "..               ...                    ...            ...   \n",
      "206                0                      0              0   \n",
      "207                0                      0              0   \n",
      "208                0                      0              0   \n",
      "209                0                      0              0   \n",
      "210                0                      0              0   \n",
      "\n",
      "     Acetate_resistance  Bicitracin  Sodium_resistance  Chromium_resistance  \\\n",
      "0                     0           0               1030                    0   \n",
      "1                  2644          57                104                    0   \n",
      "2                     0           0                  0                    0   \n",
      "3                     0           0                  0                    0   \n",
      "4                     0           0                  0                    0   \n",
      "..                  ...         ...                ...                  ...   \n",
      "206                   0           0                131                    0   \n",
      "207                   0           0                 52                    0   \n",
      "208                   0           0                  0                    0   \n",
      "209                   0           0                  0                    0   \n",
      "210                   0           0                  0                    0   \n",
      "\n",
      "     QACS  \n",
      "0       0  \n",
      "1      48  \n",
      "2       0  \n",
      "3       0  \n",
      "4     419  \n",
      "..    ...  \n",
      "206     0  \n",
      "207     0  \n",
      "208     0  \n",
      "209     0  \n",
      "210     0  \n",
      "\n",
      "[211 rows x 41 columns]\n"
     ]
    }
   ],
   "source": [
    "import pandas as pd \n",
    "\n",
    "# Importing excel sheets as dfs, should both have samples in the same order\n",
    "predictors_df = pd.read_excel('Predictors_Cleaned.xlsx', 0)\n",
    "    # Rows are samples, columns are predictors\n",
    "outcomes_df = pd.read_excel('Outcomes_Cleaned.xlsx', 0)\n",
    "    # Rows are samples, columns are mechanisms\n",
    "\n",
    "#print(predictors_df) # 211 x 33\n",
    "print(outcomes_df) # 211 x 41\n"
   ]
  },
  {
   "cell_type": "code",
   "execution_count": null,
   "metadata": {},
   "outputs": [
    {
     "name": "stdout",
     "output_type": "stream",
     "text": [
      "Out-of-Bag Score: -0.05522990272035755\n",
      "Mean Squared Error: 25339.503397654025\n",
      "R-squared: 0.7788169156516437\n"
     ]
    }
   ],
   "source": [
    "from sklearn.ensemble import RandomForestRegressor\n",
    "from sklearn.metrics import mean_squared_error, r2_score\n",
    "from sklearn.model_selection import train_test_split, RandomizedSearchCV\n",
    "\n",
    "# Removing the first column (sample IDs) and converting to numpy array\n",
    "X = predictors_df.drop('SAMPLE NAME', axis=1)\n",
    "Y = outcomes_df['Lipopeptides']\n",
    "\n",
    "# Split the data into training and test sets with an 80/20 split\n",
    "X_train, X_test, Y_train, Y_test = train_test_split(X, Y, test_size=0.2)\n",
    "\n",
    "# Creating the Random Forest model\n",
    "rf = RandomForestRegressor(n_estimators=1000, random_state=0, oob_score=True)\n",
    "rf = rf.fit(X_train, Y_train)\n",
    "\n",
    "# Out of Bag Score\n",
    "oob_score = rf.oob_score_\n",
    "print(f'Out-of-Bag Score: {oob_score}')\n",
    "\n",
    "predictions = rf.predict(X)\n",
    "# Finding MSE\n",
    "mse = mean_squared_error(Y, predictions)\n",
    "print(f'Mean Squared Error: {mse}')\n",
    "# Finding r2\n",
    "r2 = r2_score(Y, predictions)\n",
    "print(f'R-squared: {r2}')"
   ]
  },
  {
   "cell_type": "code",
   "execution_count": null,
   "metadata": {},
   "outputs": [
    {
     "data": {
      "text/plain": [
       "['my_random_forest.joblib']"
      ]
     },
     "execution_count": 60,
     "metadata": {},
     "output_type": "execute_result"
    }
   ],
   "source": [
    "# Saving the model \n",
    "import joblib\n",
    "\n",
    "joblib.dump(rf, \"my_random_forest.joblib\")"
   ]
  },
  {
   "cell_type": "code",
   "execution_count": null,
   "metadata": {},
   "outputs": [],
   "source": [
    "# DO NOT RUN ON MY PC IT WILL MAYBE EXPLODE\n",
    "'''\n",
    "X = predictors_df.drop('SAMPLE NAME', axis=1)\n",
    "Y = outcomes_df.drop('MECHANISM', axis=1) # Full DF must iterate through\n",
    "\n",
    "# List of columns\n",
    "columns = list(Y)\n",
    "\n",
    "# r2 definition\n",
    "r2 = 0\n",
    "\n",
    "for i in columns:\n",
    "    # split data for each class\n",
    "    X_train, X_test, Y_train, Y_test = train_test_split(X, Y[i], test_size=0.2)\n",
    "\n",
    "    for i in range(10): # Training 10 models to compare\n",
    "        # train model\n",
    "        rf = RandomForestRegressor(n_estimators=1000, random_state=0, oob_score=True)\n",
    "        rf = rf.fit(X_train, Y_train)\n",
    "\n",
    "        # evaluate model\n",
    "        predictions = rf.predict(X)\n",
    "        new_r2 = abs(r2_score(Y, predictions)) # using absolute value for comparision\n",
    "\n",
    "        # Compare model\n",
    "        if new_r2 > r2:\n",
    "            r2 = new_r2\n",
    "            # Saving the better model\n",
    "            joblib.dump(rf, f\"my_random_forest{i}.joblib\")\n",
    "'''\n"
   ]
  },
  {
   "cell_type": "markdown",
   "metadata": {},
   "source": [
    "Need to consider how im changing max_features"
   ]
  }
 ],
 "metadata": {
  "kernelspec": {
   "display_name": "Python 3",
   "language": "python",
   "name": "python3"
  },
  "language_info": {
   "codemirror_mode": {
    "name": "ipython",
    "version": 3
   },
   "file_extension": ".py",
   "mimetype": "text/x-python",
   "name": "python",
   "nbconvert_exporter": "python",
   "pygments_lexer": "ipython3",
   "version": "3.13.4"
  }
 },
 "nbformat": 4,
 "nbformat_minor": 2
}
