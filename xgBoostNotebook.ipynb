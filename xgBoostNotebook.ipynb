{
 "cells": [
  {
   "cell_type": "code",
   "execution_count": null,
   "id": "6455b979",
   "metadata": {},
   "outputs": [],
   "source": [
    "# pip install xgboost"
   ]
  },
  {
   "cell_type": "code",
   "execution_count": null,
   "id": "28d4dd06",
   "metadata": {},
   "outputs": [
    {
     "name": "stdout",
     "output_type": "stream",
     "text": [
      "r2: 0.09026134014129639\n"
     ]
    }
   ],
   "source": [
    "from xgboost import XGBRegressor\n",
    "import pandas as pd \n",
    "from sklearn.metrics import r2_score\n",
    "from sklearn.model_selection import train_test_split\n",
    "import joblib\n",
    "\n",
    "# Importing excel sheets as dfs, should both have samples in the same order\n",
    "predictors_df = pd.read_excel('Predictors_Cleaned.xlsx', 0)\n",
    "    # Rows are samples, columns are predictors\n",
    "outcomes_df = pd.read_excel('Outcomes_Cleaned.xlsx', 0)\n",
    "    # Rows are samples, columns are mechanisms\n",
    "\n",
    "# Dropping unnecessary metadata\n",
    "X = predictors_df.drop('SAMPLE NAME', axis=1)\n",
    "Y = outcomes_df.drop('MECHANISM', axis=1) # Full DF must iterate through\n",
    "\n",
    "\n",
    "# List of columns for iterating\n",
    "columns = list(Y)\n",
    "\n",
    "r2_list = []"
   ]
  },
  {
   "cell_type": "code",
   "execution_count": null,
   "id": "aabf26bc",
   "metadata": {},
   "outputs": [],
   "source": [
    "for i in columns:\n",
    "    \n",
    "    # resetting the r2 and best model value for each column\n",
    "    r2 = 0\n",
    "    best_model = XGBRegressor()\n",
    "    \n",
    "    # Iterate through common proportions of test/train data\n",
    "    for j in [0.2, 0.4, 0.6, 0.8]:\n",
    "\n",
    "        # Split Data\n",
    "        x_train, x_test, y_train, y_test = train_test_split(X, Y[i], test_size=j) \n",
    "\n",
    "        # Iterate through common n_estimators\n",
    "        for k in [100, 500, 1000]:\n",
    "\n",
    "            # Create model\n",
    "            xg = XGBRegressor(n_estimators=k) \n",
    "            xg = xg.fit(x_train, y_train)\n",
    "\n",
    "            # Find model r squared\n",
    "            predictions = xg.predict(x_test)\n",
    "            new_r2 = abs(r2_score(y_test, predictions)) # using absolute value for comparision\n",
    "\n",
    "            # Compare model, if model r2 is over 1 then its very bad fit so we don't save it\n",
    "            if new_r2 <= 1:\n",
    "                if new_r2 > r2:\n",
    "                    r2 = new_r2\n",
    "                    # Saving the better model\n",
    "                    best_model = xg\n",
    "    \n",
    "    # Finally dumping the best model for the class\n",
    "    joblib.dump(best_model, f\"xgb_{i}.joblib\")\n",
    "    # Storing highest r2 and oob scores\n",
    "    r2_list.append(r2)\n",
    "    # Printing highest r2 value and oob\n",
    "    print(f\"{i} r2: {r2}\")"
   ]
  },
  {
   "cell_type": "code",
   "execution_count": 1,
   "id": "b2f6da95",
   "metadata": {},
   "outputs": [
    {
     "ename": "NameError",
     "evalue": "name 'joblib' is not defined",
     "output_type": "error",
     "traceback": [
      "\u001b[31m---------------------------------------------------------------------------\u001b[39m",
      "\u001b[31mNameError\u001b[39m                                 Traceback (most recent call last)",
      "\u001b[36mCell\u001b[39m\u001b[36m \u001b[39m\u001b[32mIn[1]\u001b[39m\u001b[32m, line 7\u001b[39m\n\u001b[32m      4\u001b[39m \u001b[38;5;28;01mfrom\u001b[39;00m\u001b[38;5;250m \u001b[39m\u001b[34;01msklearn\u001b[39;00m\u001b[34;01m.\u001b[39;00m\u001b[34;01minspection\u001b[39;00m\u001b[38;5;250m \u001b[39m\u001b[38;5;28;01mimport\u001b[39;00m permutation_importance\n\u001b[32m      6\u001b[39m \u001b[38;5;66;03m# Load model\u001b[39;00m\n\u001b[32m----> \u001b[39m\u001b[32m7\u001b[39m loaded_xg = \u001b[43mjoblib\u001b[49m.load(\u001b[33m\"\u001b[39m\u001b[33mXGBoost/xgb_Betalactams.joblib\u001b[39m\u001b[33m\"\u001b[39m)\n\u001b[32m      8\u001b[39m feature_names = X.columns\n\u001b[32m     10\u001b[39m plt.figure(figsize=(\u001b[32m60\u001b[39m, \u001b[32m40\u001b[39m))  \n",
      "\u001b[31mNameError\u001b[39m: name 'joblib' is not defined"
     ]
    }
   ],
   "source": [
    "# Plotting trees & features\n",
    "from xgboost import plot_tree\n",
    "import matplotlib.pyplot as plt\n",
    "from sklearn.inspection import permutation_importance\n",
    "\n",
    "# Load model\n",
    "loaded_xg = joblib.load(\"XGBoost/xgb_Betalactams.joblib\")\n",
    "feature_names = X.columns\n",
    "\n",
    "plt.figure(figsize=(60, 40))  \n",
    "plot_tree(loaded_xg) \n",
    "plt.gcf().set_size_inches(60, 40)\n",
    "plt.show()\n",
    "\n",
    "perm_importance = permutation_importance(loaded_xg, x_test, y_test)\n",
    "sorted_idx = perm_importance.importances_mean.argsort()\n",
    "plt.barh(feature_names[sorted_idx], perm_importance.importances_mean[sorted_idx])\n",
    "plt.xlabel(\"Permutation Importance\")"
   ]
  },
  {
   "cell_type": "code",
   "execution_count": null,
   "id": "0258f66c",
   "metadata": {},
   "outputs": [
    {
     "name": "stdout",
     "output_type": "stream",
     "text": [
      "r2: 0.1462017297744751\n"
     ]
    }
   ],
   "source": [
    "# SINGLE TEST\n",
    "\n",
    "\n",
    "# Split Data\n",
    "X_train, X_test, y_train, y_test = train_test_split(X, Y['Betalactams'], test_size=0.6)\n",
    "# Create Model\n",
    "xg = XGBRegressor(n_estimators=1000)\n",
    "# fit model\n",
    "xg.fit(X_train, y_train)\n",
    "\n",
    "# make predictions\n",
    "predictions = xg.predict(X_test)\n",
    "\n",
    "# r squared value\n",
    "r2 = abs(r2_score(y_test, predictions)) # using absolute value for comparision\n",
    "print(f\"r2: {r2}\")"
   ]
  }
 ],
 "metadata": {
  "kernelspec": {
   "display_name": "Python 3",
   "language": "python",
   "name": "python3"
  },
  "language_info": {
   "codemirror_mode": {
    "name": "ipython",
    "version": 3
   },
   "file_extension": ".py",
   "mimetype": "text/x-python",
   "name": "python",
   "nbconvert_exporter": "python",
   "pygments_lexer": "ipython3",
   "version": "3.13.4"
  }
 },
 "nbformat": 4,
 "nbformat_minor": 5
}
