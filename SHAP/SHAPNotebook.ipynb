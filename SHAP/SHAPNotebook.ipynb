{
 "cells": [
  {
   "cell_type": "code",
   "execution_count": null,
   "id": "6f445344",
   "metadata": {},
   "outputs": [],
   "source": [
    "pip install shap"
   ]
  },
  {
   "cell_type": "code",
   "execution_count": null,
   "id": "0449913d",
   "metadata": {},
   "outputs": [],
   "source": [
    "from xgboost import XGBRegressor\n",
    "import shap\n",
    "import pandas as pd\n",
    "from sklearn.model_selection import train_test_split\n",
    "\n",
    "# Importing excel sheets as dfs, should both have samples in the same order\n",
    "predictors_df = pd.read_excel('../Predictors_Cleaned.xlsx', 0)\n",
    "    # Rows are samples, columns are predictors\n",
    "outcomes_df = pd.read_excel('../Outcomes_Cleaned.xlsx', 0)\n",
    "    # Rows are samples, columns are mechanisms\n",
    "\n",
    "# Dropping unnecessary metadata\n",
    "X = predictors_df.drop('SAMPLE NAME', axis=1)\n",
    "Y = outcomes_df.drop('MECHANISM', axis=1) # Full DF must iterate through\n",
    "\n",
    "# Split Data\n",
    "x_train, x_test, y_train, y_test = train_test_split(X, Y['QACS'], test_size=0.4)\n",
    "\n",
    "X100 = shap.utils.sample(X, 100)  # 100 instances for use as the background distribution\n",
    "\n",
    "# a simple linear model\n",
    "model = XGBRegressor()\n",
    "model.fit(x_train, y_train)\n",
    "\n",
    "# compute the SHAP values\n",
    "explainer = shap.Explainer(model.predict, X100)\n",
    "shap_values = explainer(x_test)\n",
    "\n",
    "# Plotting Waterfall Graph for Feature Contributions\n",
    "sample_ind = 20\n",
    "shap.plots.waterfall(shap_values[sample_ind], max_display=14)\n",
    "\n",
    "# Plotting Force Graph for Feature Contributions\n",
    "shap.plots.force(shap_values[0])\n",
    "\n",
    "# F(X) is the predicted bonus for this specific sample (that one being the very last sample)\n",
    "# The actual bonus is 18 flat\n",
    "# E(F(X)) is the average predicted gene value across all samples for QACs"
   ]
  }
 ],
 "metadata": {
  "language_info": {
   "name": "python"
  }
 },
 "nbformat": 4,
 "nbformat_minor": 5
}
