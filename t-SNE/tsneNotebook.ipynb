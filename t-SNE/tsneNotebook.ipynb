{
 "cells": [
  {
   "cell_type": "code",
   "execution_count": null,
   "id": "a8471811",
   "metadata": {},
   "outputs": [],
   "source": [
    "import pandas as pd\n",
    "import matplotlib.pyplot as plt\n",
    "from sklearn.manifold import TSNE\n",
    "import seaborn as sns\n",
    "\n",
    "# Importing excel sheets as dfs, should both have samples in the same order\n",
    "predictors_df = pd.read_excel('../Predictors_Cleaned.xlsx', 0)\n",
    "    # Rows are samples, columns are predictors\n",
    "outcomes_df = pd.read_excel('../Outcomes_Cleaned.xlsx', 0)\n",
    "    # Rows are samples, columns are mechanisms\n",
    "\n",
    "# Dropping unnecessary metadata\n",
    "X = predictors_df.drop('SAMPLE NAME', axis=1)\n",
    "Y = outcomes_df.drop('MECHANISM', axis=1) # Full DF must iterate through\n",
    "feature_names = X.columns\n",
    "gene_names = Y.columns\n",
    "\n",
    "# List of columns for iterating\n",
    "columns = list(Y)"
   ]
  },
  {
   "cell_type": "code",
   "execution_count": null,
   "id": "f5f601f5",
   "metadata": {},
   "outputs": [],
   "source": [
    "# creating tsne model\n",
    "tsne = TSNE(n_components=2, verbose=1, perplexity=40, n_iter=300) # can iterate to change these params\n",
    "tsne_result = tsne.fit_transform(X)"
   ]
  },
  {
   "cell_type": "code",
   "execution_count": null,
   "id": "2f630ee3",
   "metadata": {},
   "outputs": [],
   "source": [
    "# plot result\n",
    "tsne_result_df = pd.DataFrame({'tsne_1': tsne_result[:,0], 'tsne_2': tsne_result[:,1], 'label': Y})\n",
    "fig, ax = plt.subplots(1)\n",
    "sns.scatterplot(x='tsne_1', y='tsne_2', hue='label', data=tsne_result_df, ax=ax,s=120)\n",
    "lim = (tsne_result.min()-5, tsne_result.max()+5)\n",
    "ax.set_xlim(lim)\n",
    "ax.set_ylim(lim)\n",
    "ax.set_aspect('equal')\n",
    "ax.legend(bbox_to_anchor=(1.05, 1), loc=2, borderaxespad=0.0)\n",
    "\n",
    "# https://simulationbased.com/2021/01/05/introduction-to-t-sne-in-python-with-scikit-learn/"
   ]
  }
 ],
 "metadata": {
  "language_info": {
   "name": "python"
  }
 },
 "nbformat": 4,
 "nbformat_minor": 5
}
